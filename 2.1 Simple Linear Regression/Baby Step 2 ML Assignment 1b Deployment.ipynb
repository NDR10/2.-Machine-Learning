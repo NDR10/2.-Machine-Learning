{
 "cells": [
  {
   "cell_type": "code",
   "execution_count": 1,
   "id": "99d0af3b-c649-49fb-ace3-f56abb1aafc0",
   "metadata": {},
   "outputs": [],
   "source": [
    "# This line is used to import the \"pickle\" library. This library contains codes to create file and also load the created files\n",
    "\n",
    "import pickle"
   ]
  },
  {
   "cell_type": "code",
   "execution_count": 3,
   "id": "6639d2f5-e9aa-458f-b2a5-fd1442f2373d",
   "metadata": {},
   "outputs": [
    {
     "name": "stderr",
     "output_type": "stream",
     "text": [
      "C:\\Users\\dilip\\anaconda3\\Lib\\site-packages\\sklearn\\base.py:493: UserWarning: X does not have valid feature names, but LinearRegression was fitted with feature names\n",
      "  warnings.warn(\n"
     ]
    },
    {
     "data": {
      "text/plain": [
       "array([[26777.3913412]])"
      ]
     },
     "execution_count": 3,
     "metadata": {},
     "output_type": "execute_result"
    }
   ],
   "source": [
    "# This is the same set of codes created during the evaluation of the ML program\n",
    "# An examination of the code with zero years of experience revealed that the salary would be 2677.\n",
    "# NOte that this value is the same as the origin revealed during the creation of the ML codes. Hence, it shows that the model is working properly\n",
    "\n",
    "load_model = pickle.load(open(\"Python_program_Linear_Model.sav\",\"rb\"))\n",
    "Result = load_model.predict([[0]])\n",
    "Result"
   ]
  },
  {
   "cell_type": "code",
   "execution_count": null,
   "id": "54bb039d-b71b-4e9d-afbe-978dfd51208f",
   "metadata": {},
   "outputs": [],
   "source": []
  }
 ],
 "metadata": {
  "kernelspec": {
   "display_name": "Python 3 (ipykernel)",
   "language": "python",
   "name": "python3"
  },
  "language_info": {
   "codemirror_mode": {
    "name": "ipython",
    "version": 3
   },
   "file_extension": ".py",
   "mimetype": "text/x-python",
   "name": "python",
   "nbconvert_exporter": "python",
   "pygments_lexer": "ipython3",
   "version": "3.12.4"
  }
 },
 "nbformat": 4,
 "nbformat_minor": 5
}
